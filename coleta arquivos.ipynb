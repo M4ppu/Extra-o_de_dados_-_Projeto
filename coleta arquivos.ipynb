{
 "cells": [
  {
   "cell_type": "code",
   "execution_count": 76,
   "id": "465f1106",
   "metadata": {},
   "outputs": [],
   "source": [
    "import pandas as pd\n",
    "import requests\n",
    "import json\n",
    "from datetime import datetime\n",
    "import time"
   ]
  },
  {
   "cell_type": "code",
   "execution_count": 4,
   "id": "7d3d9a71",
   "metadata": {},
   "outputs": [],
   "source": [
    "apikey = 'e023b73a1bac6a32778b9a1e143a365a'\n",
    "url = 'https://gnews.io/api/v4'\n",
    "endpoint = '/search'"
   ]
  },
  {
   "cell_type": "code",
   "execution_count": 73,
   "id": "3f4db00f",
   "metadata": {},
   "outputs": [],
   "source": [
    "parameters = {\n",
    "    'apikey': apikey,\n",
    "    'q': 'asnbdkahsodhbaobsdjbaj',\n",
    "    'lang': 'pt',\n",
    "    #'country': 'br'\n",
    "}"
   ]
  },
  {
   "cell_type": "code",
   "execution_count": 74,
   "id": "1a11ea20",
   "metadata": {},
   "outputs": [],
   "source": [
    "x = requests.get(url + endpoint, params = parameters)\n",
    "if x.status_code >= 500:\n",
    "    time.sleep(1)\n",
    "    x = requests.get(url + endpoint, params = parameters)\n",
    "    if x.status_code >= 500:\n",
    "        raise Exception('internal error ' + str(x.status_code))"
   ]
  },
  {
   "cell_type": "code",
   "execution_count": 75,
   "id": "a404448f",
   "metadata": {},
   "outputs": [
    {
     "data": {
      "text/plain": [
       "200"
      ]
     },
     "execution_count": 75,
     "metadata": {},
     "output_type": "execute_result"
    }
   ],
   "source": [
    "x.status_code"
   ]
  },
  {
   "cell_type": "code",
   "execution_count": 13,
   "id": "12cc3f35",
   "metadata": {},
   "outputs": [],
   "source": [
    "df = pd.DataFrame(x.json()['articles'])"
   ]
  },
  {
   "cell_type": "code",
   "execution_count": 19,
   "id": "9e5337ca",
   "metadata": {},
   "outputs": [],
   "source": [
    "df['name'] = df.apply(lambda x: x['source']['name'], axis = 1)"
   ]
  },
  {
   "cell_type": "code",
   "execution_count": 24,
   "id": "26b559bf",
   "metadata": {},
   "outputs": [],
   "source": [
    "df = df.drop(columns = ['description', 'content', 'source'])"
   ]
  },
  {
   "cell_type": "code",
   "execution_count": 26,
   "id": "1cbe0872",
   "metadata": {},
   "outputs": [],
   "source": [
    "df.to_parquet('article.parquet')"
   ]
  },
  {
   "cell_type": "code",
   "execution_count": 34,
   "id": "b9fd252c",
   "metadata": {},
   "outputs": [],
   "source": [
    "df['publishedAt'] =  pd.to_datetime(df['publishedAt'], format='%Y-%m-%dT%H:%M:%SZ')"
   ]
  },
  {
   "cell_type": "code",
   "execution_count": 35,
   "id": "87b32dcd",
   "metadata": {},
   "outputs": [
    {
     "data": {
      "text/plain": [
       "title                   object\n",
       "url                     object\n",
       "image                   object\n",
       "publishedAt     datetime64[ns]\n",
       "name                    object\n",
       "publishedAt2    datetime64[ns]\n",
       "dtype: object"
      ]
     },
     "execution_count": 35,
     "metadata": {},
     "output_type": "execute_result"
    }
   ],
   "source": [
    "df.dtypes"
   ]
  },
  {
   "cell_type": "code",
   "execution_count": 49,
   "id": "fe14df12",
   "metadata": {},
   "outputs": [],
   "source": [
    "today = datetime.now()"
   ]
  },
  {
   "cell_type": "code",
   "execution_count": 52,
   "id": "e88724aa",
   "metadata": {},
   "outputs": [],
   "source": [
    "df['year'] = today.year\n",
    "df['month'] = today.month\n",
    "df['day'] = today.day"
   ]
  },
  {
   "cell_type": "code",
   "execution_count": 54,
   "id": "2159fa09",
   "metadata": {},
   "outputs": [],
   "source": [
    "df.to_parquet('article.parquet', partition_cols=['year', 'month', 'day'])"
   ]
  },
  {
   "cell_type": "code",
   "execution_count": 53,
   "id": "fd6973c5",
   "metadata": {},
   "outputs": [
    {
     "data": {
      "text/html": [
       "<div>\n",
       "<style scoped>\n",
       "    .dataframe tbody tr th:only-of-type {\n",
       "        vertical-align: middle;\n",
       "    }\n",
       "\n",
       "    .dataframe tbody tr th {\n",
       "        vertical-align: top;\n",
       "    }\n",
       "\n",
       "    .dataframe thead th {\n",
       "        text-align: right;\n",
       "    }\n",
       "</style>\n",
       "<table border=\"1\" class=\"dataframe\">\n",
       "  <thead>\n",
       "    <tr style=\"text-align: right;\">\n",
       "      <th></th>\n",
       "      <th>title</th>\n",
       "      <th>url</th>\n",
       "      <th>image</th>\n",
       "      <th>publishedAt</th>\n",
       "      <th>name</th>\n",
       "      <th>year</th>\n",
       "      <th>month</th>\n",
       "      <th>day</th>\n",
       "    </tr>\n",
       "  </thead>\n",
       "  <tbody>\n",
       "    <tr>\n",
       "      <th>0</th>\n",
       "      <td>2023 é ano com mais ataques de tubarão desde 2...</td>\n",
       "      <td>https://noticias.uol.com.br/colunas/carlos-mad...</td>\n",
       "      <td>https://conteudo.imguol.com.br/c/noticias/d7/2...</td>\n",
       "      <td>2023-03-08 03:00:00</td>\n",
       "      <td>UOL</td>\n",
       "      <td>2023</td>\n",
       "      <td>3</td>\n",
       "      <td>8</td>\n",
       "    </tr>\n",
       "    <tr>\n",
       "      <th>1</th>\n",
       "      <td>Tubarão-branco, tubarão-touro e tubarão-tigre ...</td>\n",
       "      <td>https://noticias.uol.com.br/meio-ambiente/ulti...</td>\n",
       "      <td>https://conteudo.imguol.com.br/c/noticias/59/2...</td>\n",
       "      <td>2023-03-08 03:00:00</td>\n",
       "      <td>UOL</td>\n",
       "      <td>2023</td>\n",
       "      <td>3</td>\n",
       "      <td>8</td>\n",
       "    </tr>\n",
       "    <tr>\n",
       "      <th>2</th>\n",
       "      <td>Tubarão: Placas de alerta para ataques estão d...</td>\n",
       "      <td>https://www1.folha.uol.com.br/cotidiano/2023/0...</td>\n",
       "      <td>https://f.i.uol.com.br/fotografia/2023/03/07/1...</td>\n",
       "      <td>2023-03-07 20:52:00</td>\n",
       "      <td>Folha de S.Paulo</td>\n",
       "      <td>2023</td>\n",
       "      <td>3</td>\n",
       "      <td>8</td>\n",
       "    </tr>\n",
       "    <tr>\n",
       "      <th>3</th>\n",
       "      <td>Por que ataques de tubarão são mais comuns em ...</td>\n",
       "      <td>https://www.tnh1.com.br/noticia/nid/por-que-at...</td>\n",
       "      <td>https://www.tnh1.com.br/fileadmin/_processed_/...</td>\n",
       "      <td>2023-03-07 18:14:03</td>\n",
       "      <td>TNH1</td>\n",
       "      <td>2023</td>\n",
       "      <td>3</td>\n",
       "      <td>8</td>\n",
       "    </tr>\n",
       "    <tr>\n",
       "      <th>4</th>\n",
       "      <td>Em 16 dias, menina é a 3ª vítima atacada por t...</td>\n",
       "      <td>https://www.tnh1.com.br/noticia/nid/em-16-dias...</td>\n",
       "      <td>https://www.tnh1.com.br/fileadmin/_processed_/...</td>\n",
       "      <td>2023-03-07 16:16:08</td>\n",
       "      <td>TNH1</td>\n",
       "      <td>2023</td>\n",
       "      <td>3</td>\n",
       "      <td>8</td>\n",
       "    </tr>\n",
       "    <tr>\n",
       "      <th>5</th>\n",
       "      <td>Por que ataques de tubarão são mais comuns em ...</td>\n",
       "      <td>https://www.brasil247.com/regionais/nordeste/p...</td>\n",
       "      <td>https://publisher-publish.s3.eu-central-1.amaz...</td>\n",
       "      <td>2023-03-07 15:15:05</td>\n",
       "      <td>Brasil 247</td>\n",
       "      <td>2023</td>\n",
       "      <td>3</td>\n",
       "      <td>8</td>\n",
       "    </tr>\n",
       "    <tr>\n",
       "      <th>6</th>\n",
       "      <td>Região de Recife registra três casos de ataque...</td>\n",
       "      <td>https://www.ibahia.com/brasil/regiao-do-grande...</td>\n",
       "      <td>https://www.ibahia.com/wp-content/uploads/2023...</td>\n",
       "      <td>2023-03-07 12:50:19</td>\n",
       "      <td>iBahia</td>\n",
       "      <td>2023</td>\n",
       "      <td>3</td>\n",
       "      <td>8</td>\n",
       "    </tr>\n",
       "    <tr>\n",
       "      <th>7</th>\n",
       "      <td>Proibido cores néon e joias: laboratório em Pe...</td>\n",
       "      <td>https://extra.globo.com/noticias/brasil/proibi...</td>\n",
       "      <td>https://extra.globo.com/incoming/13030292-1a3-...</td>\n",
       "      <td>2023-03-07 07:00:32</td>\n",
       "      <td>Extra</td>\n",
       "      <td>2023</td>\n",
       "      <td>3</td>\n",
       "      <td>8</td>\n",
       "    </tr>\n",
       "    <tr>\n",
       "      <th>8</th>\n",
       "      <td>No PV, Ferroviário tenta encaminhar classifica...</td>\n",
       "      <td>https://www.opovo.com.br/esportes/futebol/copa...</td>\n",
       "      <td>https://www.opovo.com.br/_midias/jpg/2023/02/2...</td>\n",
       "      <td>2023-03-07 03:00:00</td>\n",
       "      <td>O POVO</td>\n",
       "      <td>2023</td>\n",
       "      <td>3</td>\n",
       "      <td>8</td>\n",
       "    </tr>\n",
       "    <tr>\n",
       "      <th>9</th>\n",
       "      <td>Ataque de tubarão: Por que tem tantos animais ...</td>\n",
       "      <td>https://www.opovo.com.br/noticias/brasil/2023/...</td>\n",
       "      <td>https://www.opovo.com.br/_midias/jpg/2023/03/0...</td>\n",
       "      <td>2023-03-07 03:00:00</td>\n",
       "      <td>O POVO</td>\n",
       "      <td>2023</td>\n",
       "      <td>3</td>\n",
       "      <td>8</td>\n",
       "    </tr>\n",
       "  </tbody>\n",
       "</table>\n",
       "</div>"
      ],
      "text/plain": [
       "                                               title  \\\n",
       "0  2023 é ano com mais ataques de tubarão desde 2...   \n",
       "1  Tubarão-branco, tubarão-touro e tubarão-tigre ...   \n",
       "2  Tubarão: Placas de alerta para ataques estão d...   \n",
       "3  Por que ataques de tubarão são mais comuns em ...   \n",
       "4  Em 16 dias, menina é a 3ª vítima atacada por t...   \n",
       "5  Por que ataques de tubarão são mais comuns em ...   \n",
       "6  Região de Recife registra três casos de ataque...   \n",
       "7  Proibido cores néon e joias: laboratório em Pe...   \n",
       "8  No PV, Ferroviário tenta encaminhar classifica...   \n",
       "9  Ataque de tubarão: Por que tem tantos animais ...   \n",
       "\n",
       "                                                 url  \\\n",
       "0  https://noticias.uol.com.br/colunas/carlos-mad...   \n",
       "1  https://noticias.uol.com.br/meio-ambiente/ulti...   \n",
       "2  https://www1.folha.uol.com.br/cotidiano/2023/0...   \n",
       "3  https://www.tnh1.com.br/noticia/nid/por-que-at...   \n",
       "4  https://www.tnh1.com.br/noticia/nid/em-16-dias...   \n",
       "5  https://www.brasil247.com/regionais/nordeste/p...   \n",
       "6  https://www.ibahia.com/brasil/regiao-do-grande...   \n",
       "7  https://extra.globo.com/noticias/brasil/proibi...   \n",
       "8  https://www.opovo.com.br/esportes/futebol/copa...   \n",
       "9  https://www.opovo.com.br/noticias/brasil/2023/...   \n",
       "\n",
       "                                               image         publishedAt  \\\n",
       "0  https://conteudo.imguol.com.br/c/noticias/d7/2... 2023-03-08 03:00:00   \n",
       "1  https://conteudo.imguol.com.br/c/noticias/59/2... 2023-03-08 03:00:00   \n",
       "2  https://f.i.uol.com.br/fotografia/2023/03/07/1... 2023-03-07 20:52:00   \n",
       "3  https://www.tnh1.com.br/fileadmin/_processed_/... 2023-03-07 18:14:03   \n",
       "4  https://www.tnh1.com.br/fileadmin/_processed_/... 2023-03-07 16:16:08   \n",
       "5  https://publisher-publish.s3.eu-central-1.amaz... 2023-03-07 15:15:05   \n",
       "6  https://www.ibahia.com/wp-content/uploads/2023... 2023-03-07 12:50:19   \n",
       "7  https://extra.globo.com/incoming/13030292-1a3-... 2023-03-07 07:00:32   \n",
       "8  https://www.opovo.com.br/_midias/jpg/2023/02/2... 2023-03-07 03:00:00   \n",
       "9  https://www.opovo.com.br/_midias/jpg/2023/03/0... 2023-03-07 03:00:00   \n",
       "\n",
       "               name  year  month  day  \n",
       "0               UOL  2023      3    8  \n",
       "1               UOL  2023      3    8  \n",
       "2  Folha de S.Paulo  2023      3    8  \n",
       "3              TNH1  2023      3    8  \n",
       "4              TNH1  2023      3    8  \n",
       "5        Brasil 247  2023      3    8  \n",
       "6            iBahia  2023      3    8  \n",
       "7             Extra  2023      3    8  \n",
       "8            O POVO  2023      3    8  \n",
       "9            O POVO  2023      3    8  "
      ]
     },
     "execution_count": 53,
     "metadata": {},
     "output_type": "execute_result"
    }
   ],
   "source": [
    "df"
   ]
  },
  {
   "cell_type": "code",
   "execution_count": 47,
   "id": "da9c3591",
   "metadata": {},
   "outputs": [
    {
     "data": {
      "text/html": [
       "<div>\n",
       "<style scoped>\n",
       "    .dataframe tbody tr th:only-of-type {\n",
       "        vertical-align: middle;\n",
       "    }\n",
       "\n",
       "    .dataframe tbody tr th {\n",
       "        vertical-align: top;\n",
       "    }\n",
       "\n",
       "    .dataframe thead th {\n",
       "        text-align: right;\n",
       "    }\n",
       "</style>\n",
       "<table border=\"1\" class=\"dataframe\">\n",
       "  <thead>\n",
       "    <tr style=\"text-align: right;\">\n",
       "      <th></th>\n",
       "      <th>title</th>\n",
       "      <th>url</th>\n",
       "      <th>image</th>\n",
       "      <th>publishedAt</th>\n",
       "      <th>name</th>\n",
       "    </tr>\n",
       "  </thead>\n",
       "  <tbody>\n",
       "    <tr>\n",
       "      <th>0</th>\n",
       "      <td>2023 é ano com mais ataques de tubarão desde 2...</td>\n",
       "      <td>https://noticias.uol.com.br/colunas/carlos-mad...</td>\n",
       "      <td>https://conteudo.imguol.com.br/c/noticias/d7/2...</td>\n",
       "      <td>2023-03-08 03:00:00</td>\n",
       "      <td>UOL</td>\n",
       "    </tr>\n",
       "    <tr>\n",
       "      <th>1</th>\n",
       "      <td>Tubarão-branco, tubarão-touro e tubarão-tigre ...</td>\n",
       "      <td>https://noticias.uol.com.br/meio-ambiente/ulti...</td>\n",
       "      <td>https://conteudo.imguol.com.br/c/noticias/59/2...</td>\n",
       "      <td>2023-03-08 03:00:00</td>\n",
       "      <td>UOL</td>\n",
       "    </tr>\n",
       "  </tbody>\n",
       "</table>\n",
       "</div>"
      ],
      "text/plain": [
       "                                               title  \\\n",
       "0  2023 é ano com mais ataques de tubarão desde 2...   \n",
       "1  Tubarão-branco, tubarão-touro e tubarão-tigre ...   \n",
       "\n",
       "                                                 url  \\\n",
       "0  https://noticias.uol.com.br/colunas/carlos-mad...   \n",
       "1  https://noticias.uol.com.br/meio-ambiente/ulti...   \n",
       "\n",
       "                                               image         publishedAt name  \n",
       "0  https://conteudo.imguol.com.br/c/noticias/d7/2... 2023-03-08 03:00:00  UOL  \n",
       "1  https://conteudo.imguol.com.br/c/noticias/59/2... 2023-03-08 03:00:00  UOL  "
      ]
     },
     "execution_count": 47,
     "metadata": {},
     "output_type": "execute_result"
    }
   ],
   "source": [
    "pd.read_parquet('article.parquet/year=2023/month=3/day=8/')"
   ]
  },
  {
   "cell_type": "code",
   "execution_count": null,
   "id": "65bf2127",
   "metadata": {},
   "outputs": [],
   "source": []
  }
 ],
 "metadata": {
  "kernelspec": {
   "display_name": "Python 3 (ipykernel)",
   "language": "python",
   "name": "python3"
  },
  "language_info": {
   "codemirror_mode": {
    "name": "ipython",
    "version": 3
   },
   "file_extension": ".py",
   "mimetype": "text/x-python",
   "name": "python",
   "nbconvert_exporter": "python",
   "pygments_lexer": "ipython3",
   "version": "3.10.5"
  }
 },
 "nbformat": 4,
 "nbformat_minor": 5
}
